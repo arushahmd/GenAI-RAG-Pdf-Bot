{
  "nbformat": 4,
  "nbformat_minor": 0,
  "metadata": {
    "colab": {
      "provenance": []
    },
    "kernelspec": {
      "name": "python3",
      "display_name": "Python 3"
    },
    "language_info": {
      "name": "python"
    }
  },
  "cells": [
    {
      "cell_type": "markdown",
      "source": [
        "### Installations"
      ],
      "metadata": {
        "id": "cVn47CFzl8_d"
      }
    },
    {
      "cell_type": "code",
      "execution_count": null,
      "metadata": {
        "id": "AoUqLz-RdaYq"
      },
      "outputs": [],
      "source": [
        "# !pip install openai\n",
        "# !pip install langchain\n",
        "# !pip install langchain_community\n",
        "# !pip install faiss-cpu\n",
        "# !pip install python-dotenv\n",
        "# !pip install langchain pypdf\n",
        "# !pip install tiktoken"
      ]
    },
    {
      "cell_type": "markdown",
      "source": [
        "#### Imports"
      ],
      "metadata": {
        "id": "kZUdYw4nl_ZD"
      }
    },
    {
      "cell_type": "code",
      "source": [
        "import openai\n",
        "from langchain.document_loaders import PyPDFLoader\n",
        "from langchain.embeddings.openai import OpenAIEmbeddings\n",
        "from langchain.text_splitter import RecursiveCharacterTextSplitter"
      ],
      "metadata": {
        "id": "jYUEs7tBl2b6"
      },
      "execution_count": null,
      "outputs": []
    },
    {
      "cell_type": "markdown",
      "source": [
        "### model loading"
      ],
      "metadata": {
        "id": "B5CAWXwP-VtT"
      }
    },
    {
      "cell_type": "code",
      "source": [
        "import os\n",
        "from dotenv import load_dotenv\n",
        "\n",
        "# Load the .env file\n",
        "load_dotenv(\".env\")\n",
        "\n",
        "# Access variables\n",
        "OPENAI_API_KEY = os.getenv(\"OPENAI_API_KEY\")"
      ],
      "metadata": {
        "id": "2ysutJ52pFnj"
      },
      "execution_count": null,
      "outputs": []
    },
    {
      "cell_type": "code",
      "source": [
        "from langchain.llms import OpenAI\n",
        "import os\n",
        "\n",
        "llm = OpenAI(openai_api_key=OPENAI_API_KEY)\n"
      ],
      "metadata": {
        "id": "M8e0C9GBoBrM"
      },
      "execution_count": null,
      "outputs": []
    },
    {
      "cell_type": "code",
      "source": [
        "llm.invoke(\"Expmain EDA in 2 lines\")"
      ],
      "metadata": {
        "colab": {
          "base_uri": "https://localhost:8080/",
          "height": 53
        },
        "id": "z9JoNfoxo_W6",
        "outputId": "ca16da51-7120-4734-ae0a-9547fecae97b"
      },
      "execution_count": null,
      "outputs": [
        {
          "output_type": "execute_result",
          "data": {
            "text/plain": [
              "'\\n\\nEDA is the process of analyzing data to get a better understanding of the data, identify patterns, and summarize the main characteristics of the data. It involves using statistical methods and visualizations to explore and interpret data in order to make informed decisions.'"
            ],
            "application/vnd.google.colaboratory.intrinsic+json": {
              "type": "string"
            }
          },
          "metadata": {},
          "execution_count": 16
        }
      ]
    },
    {
      "cell_type": "markdown",
      "source": [
        "### upload a pdf"
      ],
      "metadata": {
        "id": "-yiFzQuisoSp"
      }
    },
    {
      "cell_type": "code",
      "source": [
        "from google.colab import files\n",
        "\n",
        "# upload a file\n",
        "uploaded_files = files.upload()\n",
        "\n",
        "# get uploaded file path\n",
        "pdf_file_path = list(uploaded_files.keys())[0]\n",
        "\n",
        "# check file extension\n",
        "if not pdf_file_path.lower().endswith(\".pdf\"):\n",
        "    raise ValueError(\"Please upload a PDF file only!\")\n",
        "\n",
        "print(f\"Uploaded PDF file: {pdf_file_path}\")"
      ],
      "metadata": {
        "colab": {
          "base_uri": "https://localhost:8080/",
          "height": 90
        },
        "id": "7BcyInOis1FZ",
        "outputId": "47a14283-86f5-45d1-9ef7-7ab417a9f05c"
      },
      "execution_count": null,
      "outputs": [
        {
          "output_type": "display_data",
          "data": {
            "text/plain": [
              "<IPython.core.display.HTML object>"
            ],
            "text/html": [
              "\n",
              "     <input type=\"file\" id=\"files-f2de1a90-7982-42fc-8820-1e88b1eb8028\" name=\"files[]\" multiple disabled\n",
              "        style=\"border:none\" />\n",
              "     <output id=\"result-f2de1a90-7982-42fc-8820-1e88b1eb8028\">\n",
              "      Upload widget is only available when the cell has been executed in the\n",
              "      current browser session. Please rerun this cell to enable.\n",
              "      </output>\n",
              "      <script>// Copyright 2017 Google LLC\n",
              "//\n",
              "// Licensed under the Apache License, Version 2.0 (the \"License\");\n",
              "// you may not use this file except in compliance with the License.\n",
              "// You may obtain a copy of the License at\n",
              "//\n",
              "//      http://www.apache.org/licenses/LICENSE-2.0\n",
              "//\n",
              "// Unless required by applicable law or agreed to in writing, software\n",
              "// distributed under the License is distributed on an \"AS IS\" BASIS,\n",
              "// WITHOUT WARRANTIES OR CONDITIONS OF ANY KIND, either express or implied.\n",
              "// See the License for the specific language governing permissions and\n",
              "// limitations under the License.\n",
              "\n",
              "/**\n",
              " * @fileoverview Helpers for google.colab Python module.\n",
              " */\n",
              "(function(scope) {\n",
              "function span(text, styleAttributes = {}) {\n",
              "  const element = document.createElement('span');\n",
              "  element.textContent = text;\n",
              "  for (const key of Object.keys(styleAttributes)) {\n",
              "    element.style[key] = styleAttributes[key];\n",
              "  }\n",
              "  return element;\n",
              "}\n",
              "\n",
              "// Max number of bytes which will be uploaded at a time.\n",
              "const MAX_PAYLOAD_SIZE = 100 * 1024;\n",
              "\n",
              "function _uploadFiles(inputId, outputId) {\n",
              "  const steps = uploadFilesStep(inputId, outputId);\n",
              "  const outputElement = document.getElementById(outputId);\n",
              "  // Cache steps on the outputElement to make it available for the next call\n",
              "  // to uploadFilesContinue from Python.\n",
              "  outputElement.steps = steps;\n",
              "\n",
              "  return _uploadFilesContinue(outputId);\n",
              "}\n",
              "\n",
              "// This is roughly an async generator (not supported in the browser yet),\n",
              "// where there are multiple asynchronous steps and the Python side is going\n",
              "// to poll for completion of each step.\n",
              "// This uses a Promise to block the python side on completion of each step,\n",
              "// then passes the result of the previous step as the input to the next step.\n",
              "function _uploadFilesContinue(outputId) {\n",
              "  const outputElement = document.getElementById(outputId);\n",
              "  const steps = outputElement.steps;\n",
              "\n",
              "  const next = steps.next(outputElement.lastPromiseValue);\n",
              "  return Promise.resolve(next.value.promise).then((value) => {\n",
              "    // Cache the last promise value to make it available to the next\n",
              "    // step of the generator.\n",
              "    outputElement.lastPromiseValue = value;\n",
              "    return next.value.response;\n",
              "  });\n",
              "}\n",
              "\n",
              "/**\n",
              " * Generator function which is called between each async step of the upload\n",
              " * process.\n",
              " * @param {string} inputId Element ID of the input file picker element.\n",
              " * @param {string} outputId Element ID of the output display.\n",
              " * @return {!Iterable<!Object>} Iterable of next steps.\n",
              " */\n",
              "function* uploadFilesStep(inputId, outputId) {\n",
              "  const inputElement = document.getElementById(inputId);\n",
              "  inputElement.disabled = false;\n",
              "\n",
              "  const outputElement = document.getElementById(outputId);\n",
              "  outputElement.innerHTML = '';\n",
              "\n",
              "  const pickedPromise = new Promise((resolve) => {\n",
              "    inputElement.addEventListener('change', (e) => {\n",
              "      resolve(e.target.files);\n",
              "    });\n",
              "  });\n",
              "\n",
              "  const cancel = document.createElement('button');\n",
              "  inputElement.parentElement.appendChild(cancel);\n",
              "  cancel.textContent = 'Cancel upload';\n",
              "  const cancelPromise = new Promise((resolve) => {\n",
              "    cancel.onclick = () => {\n",
              "      resolve(null);\n",
              "    };\n",
              "  });\n",
              "\n",
              "  // Wait for the user to pick the files.\n",
              "  const files = yield {\n",
              "    promise: Promise.race([pickedPromise, cancelPromise]),\n",
              "    response: {\n",
              "      action: 'starting',\n",
              "    }\n",
              "  };\n",
              "\n",
              "  cancel.remove();\n",
              "\n",
              "  // Disable the input element since further picks are not allowed.\n",
              "  inputElement.disabled = true;\n",
              "\n",
              "  if (!files) {\n",
              "    return {\n",
              "      response: {\n",
              "        action: 'complete',\n",
              "      }\n",
              "    };\n",
              "  }\n",
              "\n",
              "  for (const file of files) {\n",
              "    const li = document.createElement('li');\n",
              "    li.append(span(file.name, {fontWeight: 'bold'}));\n",
              "    li.append(span(\n",
              "        `(${file.type || 'n/a'}) - ${file.size} bytes, ` +\n",
              "        `last modified: ${\n",
              "            file.lastModifiedDate ? file.lastModifiedDate.toLocaleDateString() :\n",
              "                                    'n/a'} - `));\n",
              "    const percent = span('0% done');\n",
              "    li.appendChild(percent);\n",
              "\n",
              "    outputElement.appendChild(li);\n",
              "\n",
              "    const fileDataPromise = new Promise((resolve) => {\n",
              "      const reader = new FileReader();\n",
              "      reader.onload = (e) => {\n",
              "        resolve(e.target.result);\n",
              "      };\n",
              "      reader.readAsArrayBuffer(file);\n",
              "    });\n",
              "    // Wait for the data to be ready.\n",
              "    let fileData = yield {\n",
              "      promise: fileDataPromise,\n",
              "      response: {\n",
              "        action: 'continue',\n",
              "      }\n",
              "    };\n",
              "\n",
              "    // Use a chunked sending to avoid message size limits. See b/62115660.\n",
              "    let position = 0;\n",
              "    do {\n",
              "      const length = Math.min(fileData.byteLength - position, MAX_PAYLOAD_SIZE);\n",
              "      const chunk = new Uint8Array(fileData, position, length);\n",
              "      position += length;\n",
              "\n",
              "      const base64 = btoa(String.fromCharCode.apply(null, chunk));\n",
              "      yield {\n",
              "        response: {\n",
              "          action: 'append',\n",
              "          file: file.name,\n",
              "          data: base64,\n",
              "        },\n",
              "      };\n",
              "\n",
              "      let percentDone = fileData.byteLength === 0 ?\n",
              "          100 :\n",
              "          Math.round((position / fileData.byteLength) * 100);\n",
              "      percent.textContent = `${percentDone}% done`;\n",
              "\n",
              "    } while (position < fileData.byteLength);\n",
              "  }\n",
              "\n",
              "  // All done.\n",
              "  yield {\n",
              "    response: {\n",
              "      action: 'complete',\n",
              "    }\n",
              "  };\n",
              "}\n",
              "\n",
              "scope.google = scope.google || {};\n",
              "scope.google.colab = scope.google.colab || {};\n",
              "scope.google.colab._files = {\n",
              "  _uploadFiles,\n",
              "  _uploadFilesContinue,\n",
              "};\n",
              "})(self);\n",
              "</script> "
            ]
          },
          "metadata": {}
        },
        {
          "output_type": "stream",
          "name": "stdout",
          "text": [
            "Saving Aroosh_Ahmad_AI_Engineer.pdf to Aroosh_Ahmad_AI_Engineer (2).pdf\n",
            "Uploaded PDF file: Aroosh_Ahmad_AI_Engineer (2).pdf\n"
          ]
        }
      ]
    },
    {
      "cell_type": "code",
      "source": [
        "from langchain.document_loaders import PyPDFLoader\n",
        "\n",
        "def load_document(pdf_file_path):\n",
        "  # Load PDF into Document objects\n",
        "  loader = PyPDFLoader(pdf_file_path)\n",
        "  documents = loader.load()  # returns a list of Document objects\n",
        "\n",
        "  # Check number of pages loaded\n",
        "  print(f\"Number of pages loaded: {len(documents)}\")\n",
        "\n",
        "  # Optional: preview first page\n",
        "  print(documents[0].page_content[:500])  # first 500 chars'\n",
        "  return documents"
      ],
      "metadata": {
        "id": "9lczXOM_rjbY"
      },
      "execution_count": null,
      "outputs": []
    },
    {
      "cell_type": "code",
      "source": [
        "documents = load_document(pdf_file_path)"
      ],
      "metadata": {
        "colab": {
          "base_uri": "https://localhost:8080/"
        },
        "id": "EOjWadfmtR6H",
        "outputId": "3455729b-ca48-4f48-c8ad-3c4bfae11bab"
      },
      "execution_count": null,
      "outputs": [
        {
          "output_type": "stream",
          "name": "stdout",
          "text": [
            "Number of pages loaded: 2\n",
            "A r o o s h  A h m a d\n",
            "A I / M L  E n g i n e e r  |  L L M  &  N L P  S p e c i a l i s t  |  P r o d u c t i o n - R e a d y  S y s t e m s\n",
            "a r o o s h a h m d a . d a t a @ g m a i l . c o m  |  + 9 2 - 3 1 9 - 4 0 4 0 0 6 7  |  g i t h u b . c o m / a r u s h a h m d  |  l i n k e d i n . c o m / i n / a r u s h a h m d  |\n",
            "L a h o r e ,  P a k i s t a n .\n",
            "S u m m a r y\n",
            " \n",
            "A I  E n g i n e e r  w i t h  3 +  y e a r s  o f  e x p e r i e n c e  d e l i v e r i n g  p r o d u c t i o n - r e a \n"
          ]
        }
      ]
    },
    {
      "cell_type": "markdown",
      "source": [
        "### Splitting Text to Chunks"
      ],
      "metadata": {
        "id": "i8aP-Kg9w-1J"
      }
    },
    {
      "cell_type": "markdown",
      "source": [
        "**Note:**\n",
        "I am using RecursiveCharacterTextSplitter here to capture more context from pdfs.\n",
        "\n",
        "**Info**\n",
        "RecursiveCharacterTextSplitter splits text into chunks that avoids loosing context over pages by keeping paragraphs together."
      ],
      "metadata": {
        "id": "cHzwCMc9wjks"
      }
    },
    {
      "cell_type": "code",
      "source": [
        "text_splitter = RecursiveCharacterTextSplitter(chunk_size = 500, chunk_overlap = 100)\n",
        "chunks = text_splitter.split_documents(documents)"
      ],
      "metadata": {
        "id": "U6EnT0istgKN"
      },
      "execution_count": null,
      "outputs": []
    },
    {
      "cell_type": "code",
      "source": [
        "chunks[:2]"
      ],
      "metadata": {
        "colab": {
          "base_uri": "https://localhost:8080/"
        },
        "id": "nptaafbZuXnv",
        "outputId": "58cb6f49-8651-4277-c10b-6de5a7cf89db"
      },
      "execution_count": null,
      "outputs": [
        {
          "output_type": "execute_result",
          "data": {
            "text/plain": [
              "[Document(metadata={'producer': 'Canva', 'creator': 'Canva', 'creationdate': '2025-08-17T15:16:56+00:00', 'title': 'Aroosh_Ahmad_AI_Engineer - Latest', 'moddate': '2025-08-17T15:16:55+00:00', 'keywords': 'DAGtyjwAprs,BAFyE4SWrw4,0', 'author': 'Aroosh Ahmad', 'source': 'Aroosh_Ahmad_AI_Engineer.pdf', 'total_pages': 2, 'page': 0, 'page_label': '1'}, page_content='A r o o s h  A h m a d\\nA I / M L  E n g i n e e r  |  L L M  &  N L P  S p e c i a l i s t  |  P r o d u c t i o n - R e a d y  S y s t e m s\\na r o o s h a h m d a . d a t a @ g m a i l . c o m  |  + 9 2 - 3 1 9 - 4 0 4 0 0 6 7  |  g i t h u b . c o m / a r u s h a h m d  |  l i n k e d i n . c o m / i n / a r u s h a h m d  |\\nL a h o r e ,  P a k i s t a n .\\nS u m m a r y'),\n",
              " Document(metadata={'producer': 'Canva', 'creator': 'Canva', 'creationdate': '2025-08-17T15:16:56+00:00', 'title': 'Aroosh_Ahmad_AI_Engineer - Latest', 'moddate': '2025-08-17T15:16:55+00:00', 'keywords': 'DAGtyjwAprs,BAFyE4SWrw4,0', 'author': 'Aroosh Ahmad', 'source': 'Aroosh_Ahmad_AI_Engineer.pdf', 'total_pages': 2, 'page': 0, 'page_label': '1'}, page_content='L a h o r e ,  P a k i s t a n .\\nS u m m a r y\\n \\nA I  E n g i n e e r  w i t h  3 +  y e a r s  o f  e x p e r i e n c e  d e l i v e r i n g  p r o d u c t i o n - r e a d y  s y s t e m s  i n  N L P ,  c o m p u t e r  v i s i o n ,  a n d\\nL L M  a p p l i c a t i o n s .  S t a r t e d  a s  a  F u l l - S t a c k  E n g i n e e r  b e f o r e  t r a n s i t i o n i n g  i n t o  A I / M L ,  c o m b i n i n g  b a c k e n d')]"
            ]
          },
          "metadata": {},
          "execution_count": 39
        }
      ]
    },
    {
      "cell_type": "markdown",
      "source": [
        "### Vector Index/DB"
      ],
      "metadata": {
        "id": "v80-aJ0kxDax"
      }
    },
    {
      "cell_type": "markdown",
      "source": [
        "FAISS: Facebook AI Similarity Search --> a powerful library for similarity search and clustering of dense vectors."
      ],
      "metadata": {
        "id": "gR3SGje2yW9h"
      }
    },
    {
      "cell_type": "code",
      "source": [
        "from langchain.vectorstores import FAISS\n",
        "from langchain.embeddings import OpenAIEmbeddings  # many others are availabe for other models too.\n",
        "\n",
        "# creating embeddings\n",
        "embeddings = OpenAIEmbeddings(api_key = OPENAI_API_KEY)\n",
        "db = FAISS.from_documents(documents=chunks, embedding=embeddings)"
      ],
      "metadata": {
        "id": "NvlkTRhHuZS7"
      },
      "execution_count": null,
      "outputs": []
    },
    {
      "cell_type": "code",
      "source": [
        "from langchain.chains import ConversationalRetrievalChain\n",
        "from langchain.prompts import PromptTemplate\n",
        "\n",
        "CONDENSE_QUESTION_PROMPT = PromptTemplate.from_template(\n",
        "    \"\"\"\n",
        "      Given the following conversation and follow up question, rephrase the following  following follow up question\n",
        "      to be a standalone question.\n",
        "\n",
        "      {chat_history}\n",
        "      Follow up Input: {question}\n",
        "      Standalone questions:\n",
        "    \"\"\"\n",
        ")\n",
        "\n",
        "qa = ConversationalRetrievalChain.from_llm(llm=llm, retriever=db.as_retriever(), condense_question_prompt= CONDENSE_QUESTION_PROMPT,\n",
        "                                           return_source_documents=True, verbose=False)"
      ],
      "metadata": {
        "id": "7yqn6XHdxmhq"
      },
      "execution_count": null,
      "outputs": []
    },
    {
      "cell_type": "code",
      "source": [
        "chat_history= []\n",
        "query = \"Tell about the Person what did he do and what are his top skills ?.\"\n",
        "result = qa.invoke(input =\n",
        "          {\n",
        "              \"question\":query,\n",
        "              \"chat_history\": chat_history\n",
        "          })\n",
        "\n",
        "print(result[\"answer\"])"
      ],
      "metadata": {
        "colab": {
          "base_uri": "https://localhost:8080/"
        },
        "id": "UioS1k4i6C8j",
        "outputId": "556793f5-9d59-4b25-97ce-69193ead0419"
      },
      "execution_count": null,
      "outputs": [
        {
          "output_type": "stream",
          "name": "stdout",
          "text": [
            " The person, Arush Ahmad, is an AI/ML engineer with 3+ years of experience delivering production-ready systems in NLP, computer vision, and LLM applications. He started as a Full-Stack Engineer before transitioning into AI/ML and has experience in reducing manual review by 60% and building a GPT-3 powered fitness assistant with Django REST. His top skills include PyTorch, Hugging Face, LangChain, RAG, FAISS, OpenCV, OCR, YOLOv5, Transformers, NLP, and CV. He also has experience with backend and APIs such as FastAPI, Django REST, React.js, Node.js, .NET Core/MVC, and tools like Docker, Azure ML, GCP Vertex AI, Git, and CI/CD. He is based in Lahore, Pakistan and his contact information can be found on his GitHub and LinkedIn profiles.\n"
          ]
        }
      ]
    },
    {
      "cell_type": "code",
      "source": [
        "chat_history= []\n",
        "query = \"What projects are done and in what domain ?.\"\n",
        "result = qa.invoke(input =\n",
        "          {\n",
        "              \"question\":query,\n",
        "              \"chat_history\": chat_history\n",
        "          })\n",
        "\n",
        "print(result[\"answer\"])"
      ],
      "metadata": {
        "colab": {
          "base_uri": "https://localhost:8080/"
        },
        "id": "99bJJaAc3wvS",
        "outputId": "baa9800a-114a-401c-a542-0bdfb2cd1ec1"
      },
      "execution_count": null,
      "outputs": [
        {
          "output_type": "stream",
          "name": "stdout",
          "text": [
            " From the context, it appears that the individual has worked on various AI and ML projects in the domains of NLP, computer vision, and LLM applications. They have also contributed to projects involving YOLO-based disease/tower component detection and OCR preprocessing workflows. Additionally, they have also worked on 20+ AI projects in various areas such as classification, sentiment analysis, regression, and OCR APIs.\n"
          ]
        }
      ]
    },
    {
      "cell_type": "code",
      "source": [
        "chat_history= []\n",
        "query = \"Can you tell more about the OCR Project work done, what models used and what impact was created?. Only tell about OCR.\"\n",
        "result = qa.invoke(input =\n",
        "          {\n",
        "              \"question\":query,\n",
        "              \"chat_history\": chat_history\n",
        "          })\n",
        "\n",
        "print(result[\"answer\"])"
      ],
      "metadata": {
        "colab": {
          "base_uri": "https://localhost:8080/"
        },
        "id": "lRCvgIoB4MmE",
        "outputId": "b683636b-f6df-45be-d99d-ba6b80e40337"
      },
      "execution_count": null,
      "outputs": [
        {
          "output_type": "stream",
          "name": "stdout",
          "text": [
            " From the information provided, it appears that the individual worked on OCR projects while interning at I C R L Labs, K I C S, U E T, and also as a freelance developer on Fiverr. They mention building and deploying OCR engines, specifically a Urdu OCR engine using a CNN-LSTM model with 98% accuracy. As an AI/ML engineer and NLP specialist, they also mention leading a team in achieving 98% accuracy for OCR engines for Urdu, Arabic, and Farsi while working as an AI research officer at the Center of Language Engineering in Lahore. They also mention reducing CER (Character Error Rate) from 3.4% to 2.3%. However, there is no mention of the specific models used in these projects.\n"
          ]
        }
      ]
    }
  ]
}